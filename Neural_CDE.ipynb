{
  "nbformat": 4,
  "nbformat_minor": 0,
  "metadata": {
    "colab": {
      "provenance": []
    },
    "kernelspec": {
      "name": "python3",
      "display_name": "Python 3"
    },
    "language_info": {
      "name": "python"
    }
  },
  "cells": [
    {
      "cell_type": "markdown",
      "source": [
        "IE552 Neural Differential Equations Final\n",
        "\n",
        "20245537 JaeHyeon, An\n",
        "\n",
        "Paper review: Neural Controlled Differential Equations for Online Prediction Tasks"
      ],
      "metadata": {
        "id": "HwwNQXI0HHvQ"
      }
    },
    {
      "cell_type": "markdown",
      "source": [
        "In this code, we compare the train loss of natural cubic spline versus hermite cubic spline.\n",
        "\n",
        "Ornstein-Uhlenbeck process is used as a dataset, which has properties:\n",
        "\n",
        "mean-reverting, temporal correlation.\n",
        "\n",
        "It is often used in financial modeling and physics with particle displacement."
      ],
      "metadata": {
        "id": "BnBzGS6PH59r"
      }
    },
    {
      "cell_type": "markdown",
      "source": [
        "\n",
        "\n",
        "---\n",
        "\n",
        "Natural Cubic Spline\n",
        "\n",
        "---\n",
        "\n"
      ],
      "metadata": {
        "id": "MwmYsPrLMb1q"
      }
    },
    {
      "cell_type": "code",
      "source": [
        "!pip install torchcde"
      ],
      "metadata": {
        "id": "dET5GFUKItgM"
      },
      "execution_count": null,
      "outputs": []
    },
    {
      "cell_type": "code",
      "execution_count": 1,
      "metadata": {
        "id": "kNRpCfEqqlsr"
      },
      "outputs": [],
      "source": [
        "import os\n",
        "import random\n",
        "import numpy as np\n",
        "import matplotlib.pyplot as plt\n",
        "from tqdm import tqdm\n",
        "\n",
        "import torch\n",
        "import torch.nn as nn\n",
        "import torch.optim as optim\n",
        "import torchcde\n",
        "import torchsde\n",
        "from torch.utils.data import Dataset, DataLoader\n",
        "\n",
        "def seed_everything(seed):\n",
        "    os.environ['PYTHONHASHSEED'] = str(seed)\n",
        "    np.random.seed(seed)\n",
        "    random.seed(seed)\n",
        "    torch.manual_seed(seed)\n",
        "    torch.random.manual_seed(seed)\n",
        "    torch.cuda.manual_seed(seed)\n",
        "    torch.cuda.manual_seed_all(seed)\n",
        "    torch.backends.cudnn.deterministic = True\n",
        "    torch.backends.cudnn.benchmark = True\n",
        "\n",
        "use_cuda = torch.cuda.is_available()\n",
        "device = torch.device(\"cuda\" if use_cuda else \"cpu\")"
      ]
    },
    {
      "cell_type": "code",
      "source": [
        "def ou_process(T, N, theta, mu, sigma, X0):\n",
        "    \"\"\"\n",
        "    Simulate the Ornstein-Uhlenbeck process.\n",
        "\n",
        "    Parameters:\n",
        "    T (float): Total time.\n",
        "    N (int): Number of time steps.\n",
        "    theta (float): Rate of mean reversion.\n",
        "    mu (float): Long-term mean.\n",
        "    sigma (float): Volatility.\n",
        "    X0 (float): Initial value.\n",
        "\n",
        "    Returns:\n",
        "    np.ndarray: Simulated values of the OU process.\n",
        "    \"\"\"\n",
        "    dt = T / N\n",
        "    t = np.linspace(0, T, N)\n",
        "    X = np.zeros(N)\n",
        "    X[0] = X0\n",
        "\n",
        "    for i in range(1, N):\n",
        "        dW = np.random.normal(0, np.sqrt(dt))\n",
        "        X[i] = X[i-1] + theta * (mu - X[i-1]) * dt + sigma * dW\n",
        "\n",
        "    return t, X\n",
        "\n",
        "def generate_data(num_samples, T, N, theta, mu, sigma, X0):\n",
        "    data_list = []\n",
        "    for _ in range(num_samples):\n",
        "        t, X = ou_process(T, N, theta, mu, sigma, X0)\n",
        "        data_list.append([t, X])\n",
        "\n",
        "    total_data = torch.Tensor(np.array(data_list))\n",
        "    total_data = total_data.permute(0, 2, 1)\n",
        "\n",
        "    max_len = total_data.shape[1]\n",
        "    times = torch.linspace(0, 1, max_len)\n",
        "    coeffs = torchcde.natural_cubic_spline_coeffs(total_data, times)\n",
        "\n",
        "    return total_data, coeffs, times\n",
        "\n",
        "class OU_Dataset(Dataset):\n",
        "    def __init__(self, data, coeffs):\n",
        "        self.data = data\n",
        "        self.coeffs = coeffs\n",
        "\n",
        "    def __len__(self):\n",
        "        return len(self.data)\n",
        "\n",
        "    def __getitem__(self, idx):\n",
        "        return (\n",
        "            self.data[idx, ...],\n",
        "            self.coeffs[idx, ...],\n",
        "        )\n",
        "\n",
        "def split_data(data, coeffs, train_ratio=0.8):\n",
        "    total_size = len(data)\n",
        "    train_size = int(total_size * train_ratio)\n",
        "\n",
        "    train_idx = np.random.choice(range(total_size), train_size, replace=False)\n",
        "    test_idx = np.array([i for i in range(total_size) if i not in train_idx])\n",
        "\n",
        "    train_data = data[train_idx, ...]\n",
        "    test_data = data[test_idx, ...]\n",
        "    train_coeffs = coeffs[train_idx, ...]\n",
        "    test_coeffs = coeffs[test_idx, ...]\n",
        "\n",
        "    return train_data, train_coeffs, test_data, test_coeffs\n",
        "\n",
        "def create_data_loaders(train_data, train_coeffs, test_data, test_coeffs, batch_size=16):\n",
        "    train_dataset = OU_Dataset(train_data, train_coeffs)\n",
        "    test_dataset = OU_Dataset(test_data, test_coeffs)\n",
        "\n",
        "    train_loader = DataLoader(train_dataset, batch_size=batch_size, shuffle=True)\n",
        "    test_loader = DataLoader(test_dataset, batch_size=batch_size, shuffle=False)\n",
        "\n",
        "    return train_loader, test_loader\n",
        "\n",
        "# Parameters\n",
        "config = {\n",
        "    'num_samples': 300,\n",
        "    'T': 10.0,\n",
        "    'N': 200,\n",
        "    'theta': 0.25,\n",
        "    'mu': 0.0,\n",
        "    'sigma': 0.2,\n",
        "    'X0': 1.0,\n",
        "    'train_ratio': 0.8,\n",
        "    'batch_size': 16,\n",
        "    'seed': 44,\n",
        "}\n",
        "\n",
        "# Ensure reproducibility\n",
        "seed_everything(config['seed'])\n",
        "\n",
        "# Generate data\n",
        "total_data, coeffs, times = generate_data(config['num_samples'], config['T'], config['N'], config['theta'], config['mu'], config['sigma'], config['X0'])\n",
        "\n",
        "# Split data\n",
        "train_data, train_coeffs, test_data, test_coeffs = split_data(total_data, coeffs, config['train_ratio'])\n",
        "\n",
        "# Create data loaders\n",
        "train_loader, test_loader = create_data_loaders(train_data, train_coeffs, test_data, test_coeffs, config['batch_size'])"
      ],
      "metadata": {
        "id": "-HVf6qEqk0mf"
      },
      "execution_count": 2,
      "outputs": []
    },
    {
      "cell_type": "code",
      "source": [
        "class LipSwish(nn.Module):\n",
        "    def forward(self, x):\n",
        "        return 0.909 * torch.nn.functional.silu(x)\n",
        "\n",
        "class MLP(nn.Module):\n",
        "    def __init__(self, in_size, out_size, hidden_dim, num_layers, tanh=True, activation='lipswish'):\n",
        "        super().__init__()\n",
        "\n",
        "        if activation == 'lipswish':\n",
        "            activation_fn = LipSwish()\n",
        "        else:\n",
        "            activation_fn = nn.ReLU()\n",
        "\n",
        "        model = [nn.Linear(in_size, hidden_dim), activation_fn]\n",
        "        for _ in range(num_layers - 1):\n",
        "            model.append(nn.Linear(hidden_dim, hidden_dim))\n",
        "            model.append(activation_fn)\n",
        "        model.append(nn.Linear(hidden_dim, out_size))\n",
        "        if tanh:\n",
        "            model.append(nn.Tanh())\n",
        "        self._model = nn.Sequential(*model)\n",
        "\n",
        "    def forward(self, x):\n",
        "        return self._model(x)\n",
        "\n",
        "class NeuralCDEFunc(nn.Module):\n",
        "    def __init__(self, input_dim, hidden_dim, hidden_hidden_dim, num_layers, activation='lipswish'):\n",
        "        super(NeuralCDEFunc, self).__init__()\n",
        "        self.sde_type = \"ito\"\n",
        "        self.noise_type = \"scalar\"\n",
        "\n",
        "        self.input_dim = input_dim\n",
        "        self.hidden_dim = hidden_dim\n",
        "\n",
        "        self.linear_in = nn.Linear(hidden_dim + 1, hidden_dim)\n",
        "        self.f_net = MLP(hidden_dim, hidden_dim, hidden_hidden_dim, num_layers, activation=activation)\n",
        "        self.linear_out = nn.Linear(hidden_dim, input_dim * hidden_dim)\n",
        "\n",
        "    def set_X(self, coeffs, times):\n",
        "        self.coeffs = coeffs\n",
        "        self.times = times\n",
        "        self.X = torchcde.CubicSpline(self.coeffs, self.times)\n",
        "\n",
        "    def forward(self, t, y):\n",
        "        if t.dim() == 0:\n",
        "            t_scalar = t.item() if t.dim() == 0 else t\n",
        "            t = torch.full_like(y[:, 0], fill_value=t_scalar).unsqueeze(-1)\n",
        "        yy = self.linear_in(torch.cat((t, y), dim=-1))\n",
        "        yy = self.f_net(yy)\n",
        "        return self.linear_out(yy).view(yy.shape[0], self.hidden_dim, self.input_dim)\n",
        "\n",
        "class NDE_model(nn.Module):\n",
        "    def __init__(self, input_dim, hidden_dim, output_dim, num_layers, activation='lipswish', vector_field=None):\n",
        "        super(NDE_model, self).__init__()\n",
        "        self.func = vector_field(input_dim, hidden_dim, hidden_dim, num_layers, activation=activation)\n",
        "        self.initial = nn.Linear(input_dim, hidden_dim)\n",
        "        self.decoder = nn.Linear(hidden_dim, output_dim)\n",
        "\n",
        "    def forward(self, coeffs, times):\n",
        "        self.func.set_X(coeffs, times)\n",
        "\n",
        "        y0 = self.func.X.evaluate(times[0])\n",
        "        y0 = self.initial(y0)\n",
        "\n",
        "        z = torchcde.cdeint(X=self.func.X,\n",
        "                            func=self.func,\n",
        "                            z0=y0,\n",
        "                            t=times,\n",
        "                            dt=0.1,\n",
        "                            method='euler',\n",
        "                            backend='torchsde')\n",
        "        return self.decoder(z)\n",
        "\n",
        "input_dim = 2\n",
        "output_dim = 1\n",
        "hidden_dim = 32\n",
        "num_layers = 1\n",
        "\n",
        "num_epochs = 100\n",
        "lr = 1e-3"
      ],
      "metadata": {
        "id": "wE_G6_ffk9Wr"
      },
      "execution_count": 3,
      "outputs": []
    },
    {
      "cell_type": "code",
      "source": [
        "lossCDE = []\n",
        "\n",
        "model = NDE_model(input_dim=input_dim, hidden_dim=hidden_dim, output_dim=output_dim, num_layers=num_layers, vector_field=NeuralCDEFunc).to(device)\n",
        "optimizer = optim.Adam(model.parameters(), lr=lr)\n",
        "criterion = torch.nn.MSELoss()\n",
        "\n",
        "for epoch in range(1,num_epochs+1):\n",
        "    model.train()\n",
        "    total_loss = 0\n",
        "    for batch in train_loader:\n",
        "        coeffs = batch[1].to(device)\n",
        "        times = torch.linspace(0, 1, batch[0].shape[1]).to(device)\n",
        "\n",
        "        optimizer.zero_grad()\n",
        "        true = batch[0][:,:,1].to(device)\n",
        "        pred = model(coeffs, times).squeeze(-1)\n",
        "        loss = criterion(pred, true)\n",
        "        loss.backward()\n",
        "        optimizer.step()\n",
        "\n",
        "        total_loss += loss.item()\n",
        "\n",
        "    lossCDE.append(total_loss)\n",
        "    if epoch % 10 == 0:\n",
        "        avg_loss = total_loss / len(train_loader)\n",
        "\n",
        "        ##\n",
        "        model.eval()\n",
        "        total_loss = 0\n",
        "        all_preds = []\n",
        "        all_trues = []\n",
        "        with torch.no_grad():\n",
        "            for batch in test_loader:\n",
        "                coeffs = batch[1].to(device)\n",
        "                times = torch.linspace(0, 1, batch[0].shape[1]).to(device)\n",
        "\n",
        "                true = batch[0][:,:,1].to(device)\n",
        "                pred = model(coeffs, times).squeeze(-1)\n",
        "                loss = criterion(pred, true)\n",
        "                total_loss += loss.item()\n",
        "\n",
        "                all_preds.append(pred.cpu())\n",
        "                all_trues.append(true.cpu())\n",
        "\n",
        "        avg_loss = total_loss / len(test_loader)\n",
        "        all_preds = torch.cat(all_preds, dim=0)\n",
        "        all_trues = torch.cat(all_trues, dim=0)"
      ],
      "metadata": {
        "id": "TXAp6u9VlX6E"
      },
      "execution_count": null,
      "outputs": []
    },
    {
      "cell_type": "code",
      "source": [
        "plt.plot(range(1, num_epochs+1), lossCDE, label = 'CDE')\n",
        "plt.legend(loc='upper right')\n",
        "\n",
        "plt.xlabel('Epoch')\n",
        "plt.ylabel('Loss')\n",
        "plt.title('Training Loss over Epochs')\n",
        "plt.show()"
      ],
      "metadata": {
        "colab": {
          "base_uri": "https://localhost:8080/",
          "height": 472
        },
        "id": "u9O-OP-tPhIn",
        "outputId": "b9e63060-06c1-4249-a1ab-07e3590a7d7d"
      },
      "execution_count": 6,
      "outputs": [
        {
          "output_type": "display_data",
          "data": {
            "text/plain": [
              "<Figure size 640x480 with 1 Axes>"
            ],
            "image/png": "[encoded data removed]"
          },
          "metadata": {}
        }
      ]
    },
    {
      "cell_type": "code",
      "source": [
        "# Print train loss\n",
        "lossCDE[-1]"
      ],
      "metadata": {
        "colab": {
          "base_uri": "https://localhost:8080/"
        },
        "id": "CurW1La3PoWi",
        "outputId": "9a00b01c-b016-43a1-c4fa-4d730307ca97"
      },
      "execution_count": 7,
      "outputs": [
        {
          "output_type": "execute_result",
          "data": {
            "text/plain": [
              "1.4614555016160011"
            ]
          },
          "metadata": {},
          "execution_count": 7
        }
      ]
    },
    {
      "cell_type": "markdown",
      "source": [
        "\n",
        "\n",
        "---\n",
        "\n",
        "Hermite cubic spline with backward differences\n",
        "\n",
        "---\n",
        "\n"
      ],
      "metadata": {
        "id": "-zJmY7IAIE0T"
      }
    },
    {
      "cell_type": "code",
      "source": [
        "def ou_process(T, N, theta, mu, sigma, X0):\n",
        "    \"\"\"\n",
        "    Simulate the Ornstein-Uhlenbeck process.\n",
        "\n",
        "    Parameters:\n",
        "    T (float): Total time.\n",
        "    N (int): Number of time steps.\n",
        "    theta (float): Rate of mean reversion.\n",
        "    mu (float): Long-term mean.\n",
        "    sigma (float): Volatility.\n",
        "    X0 (float): Initial value.\n",
        "\n",
        "    Returns:\n",
        "    np.ndarray: Simulated values of the OU process.\n",
        "    \"\"\"\n",
        "    dt = T / N\n",
        "    t = np.linspace(0, T, N)\n",
        "    X = np.zeros(N)\n",
        "    X[0] = X0\n",
        "\n",
        "    for i in range(1, N):\n",
        "        dW = np.random.normal(0, np.sqrt(dt))\n",
        "        X[i] = X[i-1] + theta * (mu - X[i-1]) * dt + sigma * dW\n",
        "\n",
        "    return t, X\n",
        "\n",
        "def generate_data(num_samples, T, N, theta, mu, sigma, X0):\n",
        "    data_list = []\n",
        "    for _ in range(num_samples):\n",
        "        t, X = ou_process(T, N, theta, mu, sigma, X0)\n",
        "        data_list.append([t, X])\n",
        "\n",
        "    total_data = torch.Tensor(np.array(data_list))\n",
        "    total_data = total_data.permute(0, 2, 1)\n",
        "\n",
        "    max_len = total_data.shape[1]\n",
        "    times = torch.linspace(0, 1, max_len)\n",
        "    coeffs = torchcde.hermite_cubic_coefficients_with_backward_differences(total_data, times)\n",
        "\n",
        "    return total_data, coeffs, times\n",
        "\n",
        "class OU_Dataset(Dataset):\n",
        "    def __init__(self, data, coeffs):\n",
        "        self.data = data\n",
        "        self.coeffs = coeffs\n",
        "\n",
        "    def __len__(self):\n",
        "        return len(self.data)\n",
        "\n",
        "    def __getitem__(self, idx):\n",
        "        return (\n",
        "            self.data[idx, ...],\n",
        "            self.coeffs[idx, ...],\n",
        "        )\n",
        "\n",
        "def split_data(data, coeffs, train_ratio=0.8):\n",
        "    total_size = len(data)\n",
        "    train_size = int(total_size * train_ratio)\n",
        "\n",
        "    train_idx = np.random.choice(range(total_size), train_size, replace=False)\n",
        "    test_idx = np.array([i for i in range(total_size) if i not in train_idx])\n",
        "\n",
        "    train_data = data[train_idx, ...]\n",
        "    test_data = data[test_idx, ...]\n",
        "    train_coeffs = coeffs[train_idx, ...]\n",
        "    test_coeffs = coeffs[test_idx, ...]\n",
        "\n",
        "    return train_data, train_coeffs, test_data, test_coeffs\n",
        "\n",
        "def create_data_loaders(train_data, train_coeffs, test_data, test_coeffs, batch_size=16):\n",
        "    train_dataset = OU_Dataset(train_data, train_coeffs)\n",
        "    test_dataset = OU_Dataset(test_data, test_coeffs)\n",
        "\n",
        "    train_loader = DataLoader(train_dataset, batch_size=batch_size, shuffle=True)\n",
        "    test_loader = DataLoader(test_dataset, batch_size=batch_size, shuffle=False)\n",
        "\n",
        "    return train_loader, test_loader\n",
        "\n",
        "# Parameters\n",
        "config = {\n",
        "    'num_samples': 300,\n",
        "    'T': 10.0,\n",
        "    'N': 200,\n",
        "    'theta': 0.25,\n",
        "    'mu': 0.0,\n",
        "    'sigma': 0.2,\n",
        "    'X0': 1.0,\n",
        "    'train_ratio': 0.8,\n",
        "    'batch_size': 16,\n",
        "    'seed': 44,\n",
        "}\n",
        "\n",
        "# Ensure reproducibility\n",
        "seed_everything(config['seed'])\n",
        "\n",
        "# Generate data\n",
        "total_data, coeffs, times = generate_data(config['num_samples'], config['T'], config['N'], config['theta'], config['mu'], config['sigma'], config['X0'])\n",
        "\n",
        "# Split data\n",
        "train_data, train_coeffs, test_data, test_coeffs = split_data(total_data, coeffs, config['train_ratio'])\n",
        "\n",
        "# Create data loaders\n",
        "train_loader, test_loader = create_data_loaders(train_data, train_coeffs, test_data, test_coeffs, config['batch_size'])"
      ],
      "metadata": {
        "id": "HPft8vOBID14"
      },
      "execution_count": 10,
      "outputs": []
    },
    {
      "cell_type": "code",
      "source": [
        "lossCDE = []\n",
        "\n",
        "model = NDE_model(input_dim=input_dim, hidden_dim=hidden_dim, output_dim=output_dim, num_layers=num_layers, vector_field=NeuralCDEFunc).to(device)\n",
        "optimizer = optim.Adam(model.parameters(), lr=lr)\n",
        "criterion = torch.nn.MSELoss()\n",
        "\n",
        "for epoch in range(1,num_epochs+1):\n",
        "    model.train()\n",
        "    total_loss = 0\n",
        "    for batch in train_loader:\n",
        "        coeffs = batch[1].to(device)\n",
        "        times = torch.linspace(0, 1, batch[0].shape[1]).to(device)\n",
        "\n",
        "        optimizer.zero_grad()\n",
        "        true = batch[0][:,:,1].to(device)\n",
        "        pred = model(coeffs, times).squeeze(-1)\n",
        "        loss = criterion(pred, true)\n",
        "        loss.backward()\n",
        "        optimizer.step()\n",
        "\n",
        "        total_loss += loss.item()\n",
        "\n",
        "    lossCDE.append(total_loss)\n",
        "    if epoch % 10 == 0:\n",
        "        avg_loss = total_loss / len(train_loader)\n",
        "\n",
        "        ##\n",
        "        model.eval()\n",
        "        total_loss = 0\n",
        "        all_preds = []\n",
        "        all_trues = []\n",
        "        with torch.no_grad():\n",
        "            for batch in test_loader:\n",
        "                coeffs = batch[1].to(device)\n",
        "                times = torch.linspace(0, 1, batch[0].shape[1]).to(device)\n",
        "\n",
        "                true = batch[0][:,:,1].to(device)\n",
        "                pred = model(coeffs, times).squeeze(-1)\n",
        "                loss = criterion(pred, true)\n",
        "                total_loss += loss.item()\n",
        "\n",
        "                all_preds.append(pred.cpu())\n",
        "                all_trues.append(true.cpu())\n",
        "\n",
        "        avg_loss = total_loss / len(test_loader)\n",
        "        all_preds = torch.cat(all_preds, dim=0)\n",
        "        all_trues = torch.cat(all_trues, dim=0)"
      ],
      "metadata": {
        "id": "08O6MLz3IPL0"
      },
      "execution_count": null,
      "outputs": []
    },
    {
      "cell_type": "code",
      "source": [
        "plt.plot(range(1, num_epochs+1), lossCDE, label = 'CDE')\n",
        "plt.legend(loc='upper right')\n",
        "\n",
        "plt.xlabel('Epoch')\n",
        "plt.ylabel('Loss')\n",
        "plt.title('Training Loss over Epochs')\n",
        "plt.show()"
      ],
      "metadata": {
        "colab": {
          "base_uri": "https://localhost:8080/",
          "height": 472
        },
        "id": "s7NHC-JnPwnq",
        "outputId": "f38aa158-9914-4a17-858d-a8ffdf049226"
      },
      "execution_count": 12,
      "outputs": [
        {
          "output_type": "display_data",
          "data": {
            "text/plain": [
              "<Figure size 640x480 with 1 Axes>"
            ],
            "image/png": "[encoded data removed]"
          },
          "metadata": {}
        }
      ]
    },
    {
      "cell_type": "code",
      "source": [
        "# Print train loss\n",
        "lossCDE[-1]"
      ],
      "metadata": {
        "colab": {
          "base_uri": "https://localhost:8080/"
        },
        "id": "VvEGeC-UJpeI",
        "outputId": "85289c32-3434-4c0b-8ef7-ce83ef658852"
      },
      "execution_count": 13,
      "outputs": [
        {
          "output_type": "execute_result",
          "data": {
            "text/plain": [
              "0.6653637811541557"
            ]
          },
          "metadata": {},
          "execution_count": 13
        }
      ]
    },
    {
      "cell_type": "markdown",
      "source": [
        "So we can see that Hermite cubic spline really gets better accuracy than the natural cubic spline."
      ],
      "metadata": {
        "id": "SM5fZelJMrYd"
      }
    }
  ]
}